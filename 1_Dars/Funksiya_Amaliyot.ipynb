{
 "cells": [
  {
   "cell_type": "markdown",
   "id": "919a5cf9",
   "metadata": {},
   "source": [
    "# Funksiya mavzusi bo`yicha amaliy mashqlar ko`rib o`tamiz "
   ]
  },
  {
   "cell_type": "markdown",
   "id": "841d390b",
   "metadata": {},
   "source": [
    "# Berilgan sonni 2 ga ko`paytirib beruvchi funksiya "
   ]
  },
  {
   "cell_type": "code",
   "execution_count": 1,
   "id": "2a0cda34",
   "metadata": {},
   "outputs": [
    {
     "name": "stdout",
     "output_type": "stream",
     "text": [
      "16\n"
     ]
    }
   ],
   "source": [
    "def kopaytir(x):\n",
    "    return 2*x\n",
    "\n",
    "print(kopaytir(8))"
   ]
  },
  {
   "cell_type": "markdown",
   "id": "d4b99339",
   "metadata": {},
   "source": [
    "# Berilgan sonni 2-  darajasini qaytaruvchi funksiya "
   ]
  },
  {
   "cell_type": "code",
   "execution_count": 9,
   "id": "e703357c",
   "metadata": {},
   "outputs": [],
   "source": [
    "def daraja(a):\n",
    "    return a**2\n",
    "\n"
   ]
  },
  {
   "cell_type": "code",
   "execution_count": 10,
   "id": "797d104c",
   "metadata": {},
   "outputs": [
    {
     "data": {
      "text/plain": [
       "100"
      ]
     },
     "execution_count": 10,
     "metadata": {},
     "output_type": "execute_result"
    }
   ],
   "source": [
    "daraja(10)"
   ]
  },
  {
   "cell_type": "markdown",
   "id": "f14c444f",
   "metadata": {},
   "source": [
    "# Berilgan 2 ta sonni qo`shib beruvchi funksiya "
   ]
  },
  {
   "cell_type": "code",
   "execution_count": 11,
   "id": "031b82f0",
   "metadata": {},
   "outputs": [
    {
     "name": "stdout",
     "output_type": "stream",
     "text": [
      "53\n"
     ]
    }
   ],
   "source": [
    "def qoshish(x, y):\n",
    "    return x+y\n",
    "\n",
    "print(qoshish(8, 45))"
   ]
  },
  {
   "cell_type": "markdown",
   "id": "23180551",
   "metadata": {},
   "source": [
    "# Bir nechta sonlarni jami miqdorini chiqarib beruvchi funksiya "
   ]
  },
  {
   "cell_type": "code",
   "execution_count": 18,
   "id": "4a277da7",
   "metadata": {},
   "outputs": [
    {
     "name": "stdout",
     "output_type": "stream",
     "text": [
      "23\n"
     ]
    }
   ],
   "source": [
    "def hisobla(*sonlar):\n",
    "    return sum(sonlar)\n",
    "\n",
    "print(hisobla(4, 5, 6, 8))"
   ]
  },
  {
   "cell_type": "markdown",
   "id": "fc90187a",
   "metadata": {},
   "source": [
    "# SAVOL:  Agar berilgan son ikkinchi sonni bo'luvchisi bolsa true aks xolda false chiqari bersin "
   ]
  },
  {
   "cell_type": "code",
   "execution_count": 20,
   "id": "6785bfb5",
   "metadata": {},
   "outputs": [
    {
     "name": "stdout",
     "output_type": "stream",
     "text": [
      "True\n"
     ]
    }
   ],
   "source": [
    "def boluvchi(a, b):\n",
    "    return a%b ==0\n",
    "\n",
    "print(boluvchi(8, 2))"
   ]
  },
  {
   "cell_type": "code",
   "execution_count": 21,
   "id": "e09bded4",
   "metadata": {},
   "outputs": [
    {
     "name": "stdout",
     "output_type": "stream",
     "text": [
      "False\n"
     ]
    }
   ],
   "source": [
    "def boluvchi(a, b):\n",
    "    return a%b ==0\n",
    "\n",
    "print(boluvchi(4, 6))"
   ]
  },
  {
   "cell_type": "markdown",
   "id": "37a575e3",
   "metadata": {},
   "source": [
    "# SAVOL :  List berilgan va unda bitta qiymat turlicha qolganlari bir xil. Funksiya yozing va farqli sonni ekranga chiqarib bersin "
   ]
  },
  {
   "cell_type": "code",
   "execution_count": 23,
   "id": "87a75de4",
   "metadata": {},
   "outputs": [
    {
     "name": "stdout",
     "output_type": "stream",
     "text": [
      "qorni_och\n"
     ]
    }
   ],
   "source": [
    "def farqla(a):\n",
    "    for i in a:\n",
    "        if a.count(i) == 1:\n",
    "            return i\n",
    "        \n",
    "print(farqla([\"qalay\", 'qalay', \"qorni_och\", \"qalay\"]))"
   ]
  },
  {
   "cell_type": "code",
   "execution_count": 24,
   "id": "576f724e",
   "metadata": {},
   "outputs": [
    {
     "name": "stdout",
     "output_type": "stream",
     "text": [
      "8\n"
     ]
    }
   ],
   "source": [
    "def farqla(a):\n",
    "    for i in a:\n",
    "        if a.count(i) == 1:\n",
    "            return i\n",
    "        \n",
    "print(farqla([45, 45, 45, 8, 45, 45, 45]))"
   ]
  },
  {
   "cell_type": "markdown",
   "id": "1896e850",
   "metadata": {},
   "source": [
    "# SAVOL: Berilgan listdagi so'zlar ichidan eng qisqa so'z uzunligini topadigan funksiya tuzamiz "
   ]
  },
  {
   "cell_type": "code",
   "execution_count": 31,
   "id": "d79ed0a7",
   "metadata": {},
   "outputs": [
    {
     "name": "stdout",
     "output_type": "stream",
     "text": [
      "2\n"
     ]
    }
   ],
   "source": [
    "def uzunligini_aniqla(list1):\n",
    "    sozlar = list1.split()\n",
    "    uzunligi = []\n",
    "    for i in sozlar:\n",
    "        uzunligi.append(len(i))\n",
    "    return min(uzunligi)\n",
    "\n",
    "list1=\"qalam va daftarning joyi maktabdagi javonda\"\n",
    "\n",
    "print(uzunligini_aniqla(list1))"
   ]
  },
  {
   "cell_type": "markdown",
   "id": "1e5802fe",
   "metadata": {},
   "source": [
    "# 2- usuli "
   ]
  },
  {
   "cell_type": "code",
   "execution_count": 33,
   "id": "2deab41a",
   "metadata": {},
   "outputs": [
    {
     "name": "stdout",
     "output_type": "stream",
     "text": [
      "va\n"
     ]
    }
   ],
   "source": [
    "def qisqa_sozni_top(harf):\n",
    "    soz = harf.split()\n",
    "    soz.sort(key=len)\n",
    "    return soz[0]\n",
    "\n",
    "harf=\"qalam va daftarning joyi maktabdagi javonda\"\n",
    "\n",
    "print(qisqa_sozni_top(harf))\n"
   ]
  },
  {
   "cell_type": "markdown",
   "id": "b55f2725",
   "metadata": {},
   "source": [
    "# UYGA VAZIFALAR "
   ]
  },
  {
   "cell_type": "markdown",
   "id": "30654819",
   "metadata": {},
   "source": [
    "# istalgan berilgan sonlarni yigindisini topadigan funksiya tuzing "
   ]
  },
  {
   "cell_type": "code",
   "execution_count": 36,
   "id": "6bab8281",
   "metadata": {},
   "outputs": [
    {
     "name": "stdout",
     "output_type": "stream",
     "text": [
      "280\n"
     ]
    }
   ],
   "source": [
    "def yigindini_top(*sonlar):\n",
    "    return sum(sonlar)\n",
    "\n",
    "print(yigindini_top(5, 45, 47, 85, 96, 2))"
   ]
  },
  {
   "cell_type": "markdown",
   "id": "88548814",
   "metadata": {},
   "source": [
    "# berilgan listdagi so'zlar ichidan eng qisqa so'zni(birinchi keladigan) toping\n"
   ]
  },
  {
   "cell_type": "code",
   "execution_count": 37,
   "id": "d8dd2c9d",
   "metadata": {},
   "outputs": [
    {
     "name": "stdout",
     "output_type": "stream",
     "text": [
      "bir\n"
     ]
    }
   ],
   "source": [
    "def qisqa_top(harf):\n",
    "    soz = harf.split()\n",
    "    soz.sort(key=len)\n",
    "    return soz[0]\n",
    "\n",
    "harf=\"boga olma uzum bir dona gilos bor edi \"\n",
    "\n",
    "print(qisqa_top(harf))"
   ]
  },
  {
   "cell_type": "markdown",
   "id": "1cbeeaba",
   "metadata": {},
   "source": [
    "# huddi shu uzunlikdagi ikkinchi so`zni oluvchi funksiya "
   ]
  },
  {
   "cell_type": "code",
   "execution_count": null,
   "id": "db59f854",
   "metadata": {},
   "outputs": [
    {
     "name": "stdout",
     "output_type": "stream",
     "text": [
      "olma\n"
     ]
    }
   ],
   "source": [
    "def qisqa_top(harf):\n",
    "    soz = harf.split()\n",
    "    soz.sort(key=len)\n",
    "    return soz[1]\n",
    "\n",
    "harf=\"bogda olma uzum  gilos shuningdek yoniga yana olma ekdim \"\n",
    "\n",
    "print(qisqa_top(harf))"
   ]
  },
  {
   "cell_type": "markdown",
   "id": "6ad67427",
   "metadata": {},
   "source": [
    "# berilgan listdagi so'zlar ichidan eng uzun so'zni(birinchi keladigan) toping\n"
   ]
  },
  {
   "cell_type": "code",
   "execution_count": 58,
   "id": "d5267c10",
   "metadata": {},
   "outputs": [
    {
     "name": "stdout",
     "output_type": "stream",
     "text": [
      "bogimizda\n"
     ]
    }
   ],
   "source": [
    "def uzunni_top(harf):\n",
    "    soz = harf.split()\n",
    "    soz.sort(key=len)\n",
    "    return soz[-1]\n",
    "\n",
    "harf=\"bogimizda olma uzum bir dona gilos bor edi \"\n",
    "\n",
    "print(uzunni_top(harf))\n",
    "\n"
   ]
  },
  {
   "cell_type": "markdown",
   "id": "66434fe5",
   "metadata": {},
   "source": [
    "# huddi shu shart bil;an ikkinchi uzunlikdagi sozni topadigan funksiya "
   ]
  },
  {
   "cell_type": "code",
   "execution_count": 59,
   "id": "cd2e9d22",
   "metadata": {},
   "outputs": [
    {
     "name": "stdout",
     "output_type": "stream",
     "text": [
      "gilos\n"
     ]
    }
   ],
   "source": [
    "def uzunni_top(harf):\n",
    "    soz = harf.split()\n",
    "    soz.sort(key=len)\n",
    "    return soz[-2]\n",
    "\n",
    "harf=\"bogimizda olma uzum bir dona gilos bor edi \"\n",
    "\n",
    "print(uzunni_top(harf))"
   ]
  },
  {
   "cell_type": "markdown",
   "id": "54771bbf",
   "metadata": {},
   "source": [
    "# berilgan sonlar ichidan juftlarini topadigan funksiya tuzing \n"
   ]
  },
  {
   "cell_type": "code",
   "execution_count": 93,
   "id": "b899d66d",
   "metadata": {},
   "outputs": [
    {
     "name": "stdout",
     "output_type": "stream",
     "text": [
      "[8, 10, 44, 16]\n"
     ]
    }
   ],
   "source": [
    "def juft_sonlarni_top(sonlar):\n",
    "    juftlar = []\n",
    "    for son in sonlar:\n",
    "        if son % 2 == 0:\n",
    "            juftlar.append(son)\n",
    "    return juftlar\n",
    "\n",
    "raqamlar = [3, 8, 5, 10, 21, 44, 7, 16]\n",
    "print(juft_sonlarni_top(raqamlar))\n"
   ]
  },
  {
   "cell_type": "markdown",
   "id": "fb05941f",
   "metadata": {},
   "source": [
    "# berilgan sonlar ichidan toqlarini\n"
   ]
  },
  {
   "cell_type": "code",
   "execution_count": 96,
   "id": "5759b74b",
   "metadata": {},
   "outputs": [
    {
     "name": "stdout",
     "output_type": "stream",
     "text": [
      "[3, 5, 21, 7]\n"
     ]
    }
   ],
   "source": [
    "def toq_sonlarni_top(sonlar):\n",
    "    toqlar = []\n",
    "    for son in sonlar:\n",
    "        if son % 2 != 0:\n",
    "            toqlar.append(son)\n",
    "    return toqlar\n",
    "\n",
    "raqamlar = [3, 8, 5, 10, 21, 44, 7, 16]\n",
    "print(toq_sonlarni_top(raqamlar))"
   ]
  },
  {
   "cell_type": "markdown",
   "id": "fbfb2329",
   "metadata": {},
   "source": [
    "# berilgan sonlar ichidan juft/toqlarini yigindisini topadigan funksiya yarating"
   ]
  },
  {
   "cell_type": "code",
   "execution_count": 100,
   "id": "b6a633e3",
   "metadata": {},
   "outputs": [
    {
     "name": "stdout",
     "output_type": "stream",
     "text": [
      "(36, 78)\n"
     ]
    }
   ],
   "source": [
    "def toqlar_va_juftlar(jami):\n",
    "    juftlar = []\n",
    "    toqlar = []\n",
    "\n",
    "    for son in sonlar:\n",
    "        if son % 2 == 0:\n",
    "            juftlar.append(son)\n",
    "             \n",
    "    for son in sonlar:\n",
    "        if son % 2 != 0:\n",
    "            toqlar.append(son)\n",
    "    return sum(toqlar), sum(juftlar)\n",
    "  \n",
    "\n",
    "raqamlar = [3, 8, 5, 10, 21, 44, 7, 16,45,44,66,33,55]\n",
    "\n",
    "\n",
    "print(toqlar_va_juftlar(raqamlar))\n"
   ]
  },
  {
   "cell_type": "code",
   "execution_count": null,
   "id": "7bfd0495",
   "metadata": {},
   "outputs": [],
   "source": []
  }
 ],
 "metadata": {
  "kernelspec": {
   "display_name": "Python 3",
   "language": "python",
   "name": "python3"
  },
  "language_info": {
   "codemirror_mode": {
    "name": "ipython",
    "version": 3
   },
   "file_extension": ".py",
   "mimetype": "text/x-python",
   "name": "python",
   "nbconvert_exporter": "python",
   "pygments_lexer": "ipython3",
   "version": "3.13.3"
  }
 },
 "nbformat": 4,
 "nbformat_minor": 5
}
