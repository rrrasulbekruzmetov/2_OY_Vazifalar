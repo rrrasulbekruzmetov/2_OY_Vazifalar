{
 "cells": [
  {
   "cell_type": "markdown",
   "id": "39d443fd",
   "metadata": {},
   "source": [
    "# Funksiya mavzusi bo`yicha Amaliy mashqlar  "
   ]
  },
  {
   "cell_type": "markdown",
   "id": "c6f8baef",
   "metadata": {},
   "source": [
    "# 1- shart: Listdagi sonlarni tartiblang agar bosh bolsa yoki none bolsa [] ni qaytaring"
   ]
  },
  {
   "cell_type": "code",
   "execution_count": 1,
   "id": "28cb20f8",
   "metadata": {},
   "outputs": [],
   "source": [
    "def sorting(nums):\n",
    "    if nums is None or len(nums)==0:\n",
    "        return []\n",
    "   \n",
    "    return sorted(nums)"
   ]
  },
  {
   "cell_type": "code",
   "execution_count": 3,
   "id": "6598ed3e",
   "metadata": {},
   "outputs": [
    {
     "name": "stdout",
     "output_type": "stream",
     "text": [
      "[-9, 5, 6, 7, 8, 15]\n",
      "[]\n",
      "[None]\n"
     ]
    }
   ],
   "source": [
    "print(sorting([5, 8, 15, 6, -9, 7]))\n",
    "print(sorting([]))\n",
    "print(sorting([None]))"
   ]
  },
  {
   "cell_type": "markdown",
   "id": "f36f8310",
   "metadata": {},
   "source": [
    "# 2- shart:  Robotni turgan  positisiyasi  berilgan va robotni ishlash qoidasiga kora chapdan onga xarakatlanadi va berilgan buyruq songa ko'ra 3 marta xarakatlanadi va bir marta orqaga xarakatlanadi. Robotni yangi joyini topadigan funksiya yarating:# Masalan  start=0 buyruq=2 natija 4\n",
    "\n"
   ]
  },
  {
   "cell_type": "code",
   "execution_count": 4,
   "id": "ea00c3a6",
   "metadata": {},
   "outputs": [],
   "source": [
    "def robot_xarakati(start, buyruq):\n",
    "    xarakat = buyruq * 2 \n",
    "    return start + xarakat\n"
   ]
  },
  {
   "cell_type": "code",
   "execution_count": 6,
   "id": "a8d7f037",
   "metadata": {},
   "outputs": [
    {
     "name": "stdout",
     "output_type": "stream",
     "text": [
      "4\n",
      "11\n"
     ]
    }
   ],
   "source": [
    "print(robot_xarakati(0, 2)) # 0 + 4 = 4 \n",
    "print(robot_xarakati(5, 3)) # 5 + 6 = 13"
   ]
  },
  {
   "cell_type": "markdown",
   "id": "5fdded05",
   "metadata": {},
   "source": [
    "\n",
    "# 3- shart:  Berilgan  2 ta kubnining orasidan eng kattasini toping(1 qator kod orqali)\n"
   ]
  },
  {
   "cell_type": "code",
   "execution_count": 7,
   "id": "e88d9147",
   "metadata": {},
   "outputs": [],
   "source": [
    "def kub_orasi(a, b):\n",
    "    return max(a**3, b**3)\n",
    "\n"
   ]
  },
  {
   "cell_type": "code",
   "execution_count": 9,
   "id": "970f9922",
   "metadata": {},
   "outputs": [
    {
     "name": "stdout",
     "output_type": "stream",
     "text": [
      "512\n",
      "64\n"
     ]
    }
   ],
   "source": [
    "print(kub_orasi(5, 8))\n",
    "print(kub_orasi(2, 4))"
   ]
  },
  {
   "cell_type": "markdown",
   "id": "71065616",
   "metadata": {},
   "source": [
    "# 4- shart:  Berilgan so'zdagi eng uzun so'zni toping agar so'z bosh bolsa [ ] ni qaytaring\n"
   ]
  },
  {
   "cell_type": "code",
   "execution_count": 12,
   "id": "16f86a87",
   "metadata": {},
   "outputs": [],
   "source": [
    "def bosh_joyni_aniqla(soz):\n",
    "    return max(soz.split(), key=len) if soz.strip() else []"
   ]
  },
  {
   "cell_type": "code",
   "execution_count": 15,
   "id": "2904256a",
   "metadata": {},
   "outputs": [
    {
     "name": "stdout",
     "output_type": "stream",
     "text": [
      "ishlaringiz\n"
     ]
    }
   ],
   "source": [
    "soz = \"qalaysiz aka ishlaringiz yaxshimi uydagilar tinchmi\"\n",
    "print(bosh_joyni_aniqla(soz))"
   ]
  },
  {
   "cell_type": "markdown",
   "id": "2c62200d",
   "metadata": {},
   "source": [
    "# 5- shart:  Berilgan  2 ta kubnining  hajmi orasidagi farqni toping"
   ]
  },
  {
   "cell_type": "code",
   "execution_count": 16,
   "id": "48ac5b02",
   "metadata": {},
   "outputs": [],
   "source": [
    "def kub_farqini_top(a, b):\n",
    "    return a**3 - b**3 "
   ]
  },
  {
   "cell_type": "code",
   "execution_count": 18,
   "id": "27828c14",
   "metadata": {},
   "outputs": [
    {
     "name": "stdout",
     "output_type": "stream",
     "text": [
      "-218\n",
      "-117\n"
     ]
    }
   ],
   "source": [
    "print(kub_farqini_top(5, 7))\n",
    "print(kub_farqini_top(2, 5))"
   ]
  },
  {
   "cell_type": "code",
   "execution_count": 19,
   "id": "0523d4ec",
   "metadata": {},
   "outputs": [
    {
     "name": "stdout",
     "output_type": "stream",
     "text": [
      "218\n",
      "117\n"
     ]
    }
   ],
   "source": [
    "print(abs(kub_farqini_top(5, 7)))\n",
    "print(abs(kub_farqini_top(2, 5)))"
   ]
  },
  {
   "cell_type": "code",
   "execution_count": null,
   "id": "ea0b623b",
   "metadata": {},
   "outputs": [],
   "source": []
  }
 ],
 "metadata": {
  "kernelspec": {
   "display_name": "Python 3",
   "language": "python",
   "name": "python3"
  },
  "language_info": {
   "codemirror_mode": {
    "name": "ipython",
    "version": 3
   },
   "file_extension": ".py",
   "mimetype": "text/x-python",
   "name": "python",
   "nbconvert_exporter": "python",
   "pygments_lexer": "ipython3",
   "version": "3.13.3"
  }
 },
 "nbformat": 4,
 "nbformat_minor": 5
}
