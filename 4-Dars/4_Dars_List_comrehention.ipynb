{
 "cells": [
  {
   "cell_type": "markdown",
   "id": "710ca8d9",
   "metadata": {},
   "source": [
    "# List comrehention mavzusi bo`yicha mashqlar "
   ]
  },
  {
   "cell_type": "markdown",
   "id": "b12dfd1c",
   "metadata": {},
   "source": [
    "# Sintaksisi : new_list = [expression for item in iterable if condition]\n",
    "#expression - qiymat (i *2 )\n",
    "#item - for orqali aylanayotgan element\n",
    "#iterable - royhat yok iketma ketlik \n",
    "#condition - filter sharti "
   ]
  },
  {
   "cell_type": "markdown",
   "id": "741fc167",
   "metadata": {},
   "source": [
    "# oddiy for sikli "
   ]
  },
  {
   "cell_type": "code",
   "execution_count": 1,
   "id": "7d267489",
   "metadata": {},
   "outputs": [
    {
     "name": "stdout",
     "output_type": "stream",
     "text": [
      "[0, 1, 2, 3, 4]\n"
     ]
    }
   ],
   "source": [
    "numbers = []\n",
    "for i in range(5):\n",
    "    numbers.append(i)\n",
    "print(numbers)"
   ]
  },
  {
   "cell_type": "markdown",
   "id": "c6037d2f",
   "metadata": {},
   "source": [
    "# List Comprehention "
   ]
  },
  {
   "cell_type": "code",
   "execution_count": 2,
   "id": "2d2912b7",
   "metadata": {},
   "outputs": [
    {
     "name": "stdout",
     "output_type": "stream",
     "text": [
      "[0, 1, 2, 3, 4]\n"
     ]
    }
   ],
   "source": [
    "numbers = [i for i in range(5)]\n",
    "print(numbers)"
   ]
  },
  {
   "cell_type": "markdown",
   "id": "c6b66c10",
   "metadata": {},
   "source": [
    "# 1 dan 8 gacha bo`lgan  Sonlarni darajaga oshirish  "
   ]
  },
  {
   "cell_type": "code",
   "execution_count": 3,
   "id": "3e7861fc",
   "metadata": {},
   "outputs": [
    {
     "name": "stdout",
     "output_type": "stream",
     "text": [
      "[1, 4, 9, 16, 25, 36, 49]\n"
     ]
    }
   ],
   "source": [
    "daraja = [x**2 for x in range(1, 8)]\n",
    "print(daraja)"
   ]
  },
  {
   "cell_type": "markdown",
   "id": "fb836d23",
   "metadata": {},
   "source": [
    "# 10 gacha bo`lgan juft sonlarni olish "
   ]
  },
  {
   "cell_type": "code",
   "execution_count": 4,
   "id": "a0c715d7",
   "metadata": {},
   "outputs": [
    {
     "name": "stdout",
     "output_type": "stream",
     "text": [
      "[0, 2, 4, 6, 8]\n"
     ]
    }
   ],
   "source": [
    "juftlik = [x for x in range(10) if x % 2 == 0]\n",
    "print(juftlik)"
   ]
  },
  {
   "cell_type": "markdown",
   "id": "d3993709",
   "metadata": {},
   "source": [
    "# 10 gacha bo`lgan toq sonlarni olish "
   ]
  },
  {
   "cell_type": "code",
   "execution_count": 5,
   "id": "b625ec2c",
   "metadata": {},
   "outputs": [
    {
     "name": "stdout",
     "output_type": "stream",
     "text": [
      "[1, 3, 5, 7, 9]\n"
     ]
    }
   ],
   "source": [
    "toqlar = [x for x in range(10) if x % 2 != 0]\n",
    "print(toqlar)"
   ]
  },
  {
   "cell_type": "markdown",
   "id": "809bd536",
   "metadata": {},
   "source": [
    "# 5 gacha bo`lgan sonlarni shartga mos yoki yo`qligini aniqlash"
   ]
  },
  {
   "cell_type": "code",
   "execution_count": 6,
   "id": "bbda04c3",
   "metadata": {},
   "outputs": [
    {
     "name": "stdout",
     "output_type": "stream",
     "text": [
      "['yaxshi ', 'yamon', 'yaxshi ', 'yamon', 'yaxshi ']\n"
     ]
    }
   ],
   "source": [
    "yaxshi_yamon = [\"yaxshi \" if x % 2 == 0 else \"yamon\" for x in range(5)]\n",
    "print(yaxshi_yamon)"
   ]
  },
  {
   "cell_type": "markdown",
   "id": "54da24f3",
   "metadata": {},
   "source": [
    "# nested list comprehentionga misol "
   ]
  },
  {
   "cell_type": "code",
   "execution_count": 8,
   "id": "c87c9e5c",
   "metadata": {},
   "outputs": [
    {
     "name": "stdout",
     "output_type": "stream",
     "text": [
      "[[1, 2, 3], [2, 4, 6], [3, 6, 9]]\n"
     ]
    }
   ],
   "source": [
    "matritsa = [[i * j for j in range(1,4)] for i in  range(1, 4)]\n",
    "print(matritsa)"
   ]
  },
  {
   "cell_type": "markdown",
   "id": "e3cb81ff",
   "metadata": {},
   "source": [
    "# string bilan  ishlash "
   ]
  },
  {
   "cell_type": "code",
   "execution_count": 9,
   "id": "b45d857a",
   "metadata": {},
   "outputs": [
    {
     "name": "stdout",
     "output_type": "stream",
     "text": [
      "['S', 'A', 'L', 'O', 'M', ' ', 'A', 'L', 'E', 'Y', 'K', 'U', 'M']\n"
     ]
    }
   ],
   "source": [
    "matn = \"Salom Aleykum\"\n",
    "katta_xarf = [char.upper() for char in matn]\n",
    "print(katta_xarf)"
   ]
  },
  {
   "cell_type": "code",
   "execution_count": 11,
   "id": "c66a8b97",
   "metadata": {},
   "outputs": [
    {
     "name": "stdout",
     "output_type": "stream",
     "text": [
      "['SALOM ALEYKUM']\n"
     ]
    }
   ],
   "source": [
    "matn = \"Salom Aleykum\"\n",
    "katta_xarf = [matn.upper()]\n",
    "print(katta_xarf)"
   ]
  },
  {
   "cell_type": "markdown",
   "id": "919a4d9f",
   "metadata": {},
   "source": [
    "# Tuple , Set , Dict bilan list comprehention "
   ]
  },
  {
   "cell_type": "code",
   "execution_count": 12,
   "id": "ff1dd940",
   "metadata": {},
   "outputs": [
    {
     "name": "stdout",
     "output_type": "stream",
     "text": [
      "{0, 1, 2, 3, 4}\n"
     ]
    }
   ],
   "source": [
    "raqamlar = {x for x in range(5)}\n",
    "print(raqamlar)"
   ]
  },
  {
   "cell_type": "code",
   "execution_count": 13,
   "id": "c6125189",
   "metadata": {},
   "outputs": [
    {
     "name": "stdout",
     "output_type": "stream",
     "text": [
      "{0: 0, 1: 1, 2: 4, 3: 9, 4: 16}\n"
     ]
    }
   ],
   "source": [
    "darajali = {x: x**2 for x in range(5)}\n",
    "print(darajali)"
   ]
  },
  {
   "cell_type": "code",
   "execution_count": 14,
   "id": "fc53b187",
   "metadata": {},
   "outputs": [
    {
     "name": "stdout",
     "output_type": "stream",
     "text": [
      "{0, 1, 4, 9, 16}\n"
     ]
    }
   ],
   "source": [
    "darajali = {x**2 for x in range(5)}\n",
    "print(darajali)"
   ]
  },
  {
   "cell_type": "markdown",
   "id": "9adafc4b",
   "metadata": {},
   "source": [
    "# misollar \n"
   ]
  },
  {
   "cell_type": "code",
   "execution_count": 16,
   "id": "756d8ecf",
   "metadata": {},
   "outputs": [
    {
     "name": "stdout",
     "output_type": "stream",
     "text": [
      "[1, 2]\n"
     ]
    }
   ],
   "source": [
    "raqam = [-2, -1, 0, 1, 2]\n",
    "pos = [n for n in raqam if n > 0]\n",
    "print(pos)"
   ]
  },
  {
   "cell_type": "code",
   "execution_count": 17,
   "id": "7574ca40",
   "metadata": {},
   "outputs": [
    {
     "name": "stdout",
     "output_type": "stream",
     "text": [
      "[-2, -1]\n"
     ]
    }
   ],
   "source": [
    "raqam = [-2, -1, 0, 1, 2]\n",
    "neg = [n for n in raqam if n < 0]\n",
    "print(neg)"
   ]
  },
  {
   "cell_type": "code",
   "execution_count": 18,
   "id": "f04d0231",
   "metadata": {},
   "outputs": [
    {
     "name": "stdout",
     "output_type": "stream",
     "text": [
      "['olma', 'qulupnay']\n"
     ]
    }
   ],
   "source": [
    "data = [\"olma\", None, \"\", \"qulupnay\"]\n",
    "tozala = [a for a in data if a]\n",
    "print(tozala)"
   ]
  },
  {
   "cell_type": "code",
   "execution_count": 19,
   "id": "4352938c",
   "metadata": {},
   "outputs": [
    {
     "name": "stdout",
     "output_type": "stream",
     "text": [
      "['qizil mashina', 'qizil uycha', 'kok mashina', 'kok uycha']\n"
     ]
    }
   ],
   "source": [
    "rang = [\"qizil\", \"kok\"]\n",
    "narsa = [\"mashina\", \"uycha\"]\n",
    "birlash = [a  + \" \" + b for a in rang for b in narsa]\n",
    "print(birlash)"
   ]
  },
  {
   "cell_type": "code",
   "execution_count": null,
   "id": "4acf7c7a",
   "metadata": {},
   "outputs": [],
   "source": []
  }
 ],
 "metadata": {
  "kernelspec": {
   "display_name": "Python 3",
   "language": "python",
   "name": "python3"
  },
  "language_info": {
   "codemirror_mode": {
    "name": "ipython",
    "version": 3
   },
   "file_extension": ".py",
   "mimetype": "text/x-python",
   "name": "python",
   "nbconvert_exporter": "python",
   "pygments_lexer": "ipython3",
   "version": "3.13.3"
  }
 },
 "nbformat": 4,
 "nbformat_minor": 5
}
