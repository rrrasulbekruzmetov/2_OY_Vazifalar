{
 "cells": [
  {
   "cell_type": "markdown",
   "id": "d37e8da3",
   "metadata": {},
   "source": [
    "# Agar berilgan list bosh bolsa nolni qaytaring aks xolda xar bir elementini 3 ga kopaytirib qaytaring(list comperhansiondan foydalanib/foydalanmasdan xisoblang)"
   ]
  },
  {
   "cell_type": "code",
   "execution_count": 2,
   "id": "ac361de4",
   "metadata": {},
   "outputs": [
    {
     "name": "stdout",
     "output_type": "stream",
     "text": [
      "[6, 15, 12, 18, 9]\n",
      "0\n"
     ]
    }
   ],
   "source": [
    "def list_qaytar(lst):\n",
    "    if not lst:\n",
    "        return 0 \n",
    "    return [x * 3 for x in lst]\n",
    "\n",
    "\n",
    "print(list_qaytar([2, 5, 4, 6, 3]))\n",
    "print(list_qaytar([]))\n"
   ]
  },
  {
   "cell_type": "code",
   "execution_count": 9,
   "id": "b94b8737",
   "metadata": {},
   "outputs": [
    {
     "name": "stdout",
     "output_type": "stream",
     "text": [
      "[15, 12, 9, 3, 27]\n"
     ]
    }
   ],
   "source": [
    "def listni_aniqla(lst2):\n",
    "    if not lst2:\n",
    "        return 0 \n",
    "    natija = []\n",
    "    for x in lst2:\n",
    "        natija.append(x * 3)\n",
    "    return natija\n",
    "\n",
    "print(listni_aniqla([5, 4, 3, 1, 9]))"
   ]
  },
  {
   "cell_type": "markdown",
   "id": "5cfccc2d",
   "metadata": {},
   "source": [
    "# Berilgan gapda nechta unli xarf borligini aniqlaydigan funksiya yozing\n"
   ]
  },
  {
   "cell_type": "code",
   "execution_count": 4,
   "id": "336381b9",
   "metadata": {},
   "outputs": [
    {
     "name": "stdout",
     "output_type": "stream",
     "text": [
      "12\n"
     ]
    }
   ],
   "source": [
    "def unli_top(gap):\n",
    "    unli = 'aeiou'\n",
    "    soni = 0 \n",
    "    for harf in gap:\n",
    "        if harf in unli:\n",
    "            soni += 1 \n",
    "    return soni\n",
    "\n",
    "print(unli_top(\"qalaysiz aka uydagilar yaxshimi\"))"
   ]
  },
  {
   "cell_type": "code",
   "execution_count": 8,
   "id": "c16c12d5",
   "metadata": {},
   "outputs": [
    {
     "name": "stdout",
     "output_type": "stream",
     "text": [
      "11\n"
     ]
    }
   ],
   "source": [
    "def unli_aniqla2(gap2):\n",
    "    unli2 = \"aeiou\"\n",
    "    return sum(1 for harf in gap2 if harf in unli2)\n",
    "\n",
    "print(unli_aniqla2(\"aka ishdan qaytdizmi mayli mayli\"))"
   ]
  },
  {
   "cell_type": "markdown",
   "id": "4c40a69d",
   "metadata": {},
   "source": [
    "# Berilgan listdagi faqat juft/toq sonlarni qaytaradigan funksiya yozing"
   ]
  },
  {
   "cell_type": "code",
   "execution_count": 12,
   "id": "09e80cfa",
   "metadata": {},
   "outputs": [
    {
     "name": "stdout",
     "output_type": "stream",
     "text": [
      "[8, 6, 2, 6]\n"
     ]
    }
   ],
   "source": [
    "def juft_aniqla(roythat):\n",
    "    juftlar = []\n",
    "    for son in royhat:\n",
    "        if son % 2 == 0:\n",
    "            juftlar.append(son)\n",
    "    return juftlar\n",
    "\n",
    "royhat = [1, 8, 6, 2, 7, 6, 3, 5]\n",
    "print(juft_aniqla(royhat))"
   ]
  },
  {
   "cell_type": "code",
   "execution_count": 11,
   "id": "91f918c7",
   "metadata": {},
   "outputs": [
    {
     "name": "stdout",
     "output_type": "stream",
     "text": [
      "[2, 4, 6, 8, 6]\n"
     ]
    }
   ],
   "source": [
    "def juft_sonlar(royhat):\n",
    "    juftlar = [son for son in royhat if son % 2 == 0]\n",
    "    return juftlar\n",
    "\n",
    "royhat = [2, 4, 5, 6, 8, 6, 9]\n",
    "print(juft_sonlar(royhat))"
   ]
  },
  {
   "cell_type": "markdown",
   "id": "ff5893ba",
   "metadata": {},
   "source": [
    "#  Ikkita list berilgan ularni umumiy elementlarini qaytaradigan funskiya yarating"
   ]
  },
  {
   "cell_type": "code",
   "execution_count": 13,
   "id": "1b82b06e",
   "metadata": {},
   "outputs": [
    {
     "name": "stdout",
     "output_type": "stream",
     "text": [
      "[2, 5, 7, 6]\n"
     ]
    }
   ],
   "source": [
    "def tekshiruvchi(list1, list2):\n",
    "    return [elem for elem in list1 if elem in list2]\n",
    "\n",
    "a = [2, 5, 7, 6, 9, 1]\n",
    "b = [4, 5, 7, 6, 3, 2]\n",
    "print(tekshiruvchi(a, b))"
   ]
  },
  {
   "cell_type": "code",
   "execution_count": 14,
   "id": "a89a9504",
   "metadata": {},
   "outputs": [
    {
     "name": "stdout",
     "output_type": "stream",
     "text": [
      "[2, 5, 7, 6]\n"
     ]
    }
   ],
   "source": [
    "def tekshir(list10, list20):\n",
    "    jamisi = []\n",
    "    for elem in list10:\n",
    "        if elem in list20:\n",
    "            jamisi.append(elem)\n",
    "    return jamisi\n",
    "\n",
    "a = [2, 5, 7, 6, 9, 1]\n",
    "b = [4, 5, 7, 6, 3, 2]\n",
    "print(tekshiruvchi(a, b))"
   ]
  },
  {
   "cell_type": "markdown",
   "id": "4f97f23f",
   "metadata": {},
   "source": [
    "#  Istalgan list elementlari orasidan max va min toping va ulardan yangi list yarating"
   ]
  },
  {
   "cell_type": "code",
   "execution_count": 15,
   "id": "970aabd7",
   "metadata": {},
   "outputs": [
    {
     "name": "stdout",
     "output_type": "stream",
     "text": [
      "[1, 8]\n"
     ]
    }
   ],
   "source": [
    "def max_min_list(royhat):\n",
    "    if len(royhat) == 0:\n",
    "        return []\n",
    "    return [min(royhat), max(royhat)]\n",
    "\n",
    "a = [4, 8, 2, 4, 7, 3, 1]\n",
    "print(max_min_list(a))"
   ]
  },
  {
   "cell_type": "code",
   "execution_count": 18,
   "id": "e6ff2061",
   "metadata": {},
   "outputs": [
    {
     "name": "stdout",
     "output_type": "stream",
     "text": [
      "[1, 8]\n"
     ]
    }
   ],
   "source": [
    "def min_max_list(royhat):\n",
    "    if len(royhat) == 0:\n",
    "        return []\n",
    "    \n",
    "    eng_kichik = royhat[0]\n",
    "    eng_katta = royhat[0]\n",
    "\n",
    "    for elem in royhat:\n",
    "        if elem < eng_kichik:\n",
    "            eng_kichik = elem\n",
    "        if elem > eng_katta:\n",
    "            eng_katta = elem\n",
    "\n",
    "    yangi_royhat = []\n",
    "    yangi_royhat.append(eng_kichik)\n",
    "    yangi_royhat.append(eng_katta)\n",
    "\n",
    "\n",
    "    return yangi_royhat\n",
    "\n",
    "a = [5, 8, 1, 7, 3, 6, 4, 2]\n",
    "print(min_max_list(a))"
   ]
  },
  {
   "cell_type": "code",
   "execution_count": null,
   "id": "4175ab1d",
   "metadata": {},
   "outputs": [],
   "source": []
  }
 ],
 "metadata": {
  "kernelspec": {
   "display_name": "Python 3",
   "language": "python",
   "name": "python3"
  },
  "language_info": {
   "codemirror_mode": {
    "name": "ipython",
    "version": 3
   },
   "file_extension": ".py",
   "mimetype": "text/x-python",
   "name": "python",
   "nbconvert_exporter": "python",
   "pygments_lexer": "ipython3",
   "version": "3.13.3"
  }
 },
 "nbformat": 4,
 "nbformat_minor": 5
}
